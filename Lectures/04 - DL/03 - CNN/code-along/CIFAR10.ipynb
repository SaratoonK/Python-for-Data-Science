{
 "cells": [
  {
   "cell_type": "markdown",
   "id": "5bbf15d3-f1e9-40c3-a7a0-736a576bb624",
   "metadata": {},
   "source": [
    "# Workshop on CIFAR10\n",
    "\n",
    "Today you will be working on CIFAR10 on your own.\n",
    "\n",
    "Good luck!"
   ]
  },
  {
   "cell_type": "code",
   "execution_count": 1,
   "id": "a526c8f2-fa25-413f-8340-e3eb956136d2",
   "metadata": {},
   "outputs": [],
   "source": [
    "#load everything\n",
    "import torch\n",
    "from torchvision import datasets, transforms\n",
    "import torch.nn as nn\n",
    "from torch.utils.data import DataLoader\n",
    "from torchvision.utils import make_grid\n",
    "\n",
    "import sys, time\n",
    "import numpy as np\n",
    "import pandas as pd\n",
    "from sklearn.metrics import confusion_matrix, ConfusionMatrixDisplay\n",
    "import matplotlib.pyplot as plt"
   ]
  },
  {
   "cell_type": "code",
   "execution_count": 2,
   "id": "5e469d9e-e8ba-4a8d-8c9b-9a803eaf0035",
   "metadata": {},
   "outputs": [
    {
     "name": "stdout",
     "output_type": "stream",
     "text": [
      "cpu\n"
     ]
    }
   ],
   "source": [
    "device = torch.device('cuda:0' if torch.cuda.is_available() else 'cpu')\n",
    "print(device)\n",
    "\n",
    "#change this five times to get 5 cross validation\n",
    "SEED = 999\n",
    "torch.manual_seed(SEED)\n",
    "torch.backends.cudnn.deterministic = True"
   ]
  },
  {
   "cell_type": "markdown",
   "id": "76cb1f2d-8e76-4139-a030-1a50619c6df2",
   "metadata": {},
   "source": [
    "## 1. ETL"
   ]
  },
  {
   "cell_type": "code",
   "execution_count": 3,
   "id": "782c3bdc-b5f0-4462-9869-b5aeaaf69f0e",
   "metadata": {},
   "outputs": [],
   "source": [
    "#use datasets.CIFAR to get train and test\n",
    "#then split train to train and val in the percentage of 80:20\n",
    "transform = transforms.ToTensor()"
   ]
  },
  {
   "cell_type": "code",
   "execution_count": 4,
   "id": "e890871c-f167-4a04-89f3-d03bfe28756d",
   "metadata": {},
   "outputs": [
    {
     "name": "stdout",
     "output_type": "stream",
     "text": [
      "Files already downloaded and verified\n",
      "Files already downloaded and verified\n"
     ]
    }
   ],
   "source": [
    "import os\n",
    "os.environ['http_proxy']  = 'http://192.41.170.23:3128'\n",
    "os.environ['https_proxy'] = 'http://192.41.170.23:3128'\n",
    "\n",
    "train_data = datasets.CIFAR10(root=\"../data\", train=True, \n",
    "                              download=True, transform=transform)\n",
    "test_set   = datasets.CIFAR10(root=\"../data\", train=False, \n",
    "                              download=True, transform=transform)"
   ]
  },
  {
   "cell_type": "code",
   "execution_count": 5,
   "id": "9495101d-71bc-424a-b8b0-6e279d5171d8",
   "metadata": {},
   "outputs": [
    {
     "data": {
      "text/plain": [
       "(50000, 10000)"
      ]
     },
     "execution_count": 5,
     "metadata": {},
     "output_type": "execute_result"
    }
   ],
   "source": [
    "len(train_data), len(test_set)"
   ]
  },
  {
   "cell_type": "code",
   "execution_count": 6,
   "id": "670c58c4-7f0a-4ddf-9a6f-9188ce77fb7d",
   "metadata": {},
   "outputs": [],
   "source": [
    "train_set, val_set = torch.utils.data.random_split(train_data, [40000, 10000])"
   ]
  },
  {
   "cell_type": "markdown",
   "id": "ba060ac3-e62e-4714-b3d2-fc35e0b8885e",
   "metadata": {},
   "source": [
    "## 2. EDA"
   ]
  },
  {
   "cell_type": "code",
   "execution_count": 7,
   "id": "6396322f-7834-44a0-9ae3-52787589e59e",
   "metadata": {},
   "outputs": [
    {
     "data": {
      "text/plain": [
       "torch.Size([3, 32, 32])"
      ]
     },
     "execution_count": 7,
     "metadata": {},
     "output_type": "execute_result"
    }
   ],
   "source": [
    "#task1:  please print one sample image of the training set\n",
    "train_set[0][0].shape \n",
    "#shape:  C, W, H"
   ]
  },
  {
   "cell_type": "code",
   "execution_count": 8,
   "id": "d12c1488-43a5-49db-be48-82252f831cdb",
   "metadata": {},
   "outputs": [
    {
     "data": {
      "text/plain": [
       "2"
      ]
     },
     "execution_count": 8,
     "metadata": {},
     "output_type": "execute_result"
    }
   ],
   "source": [
    "train_set[0][1]\n",
    "#2 is bird!!!"
   ]
  },
  {
   "cell_type": "code",
   "execution_count": 9,
   "id": "e695dd4a-572a-4b3f-9357-48a36bdd35a2",
   "metadata": {},
   "outputs": [],
   "source": [
    "# train_set[0]   #basically image, label"
   ]
  },
  {
   "cell_type": "code",
   "execution_count": 10,
   "id": "b99a167c-b778-4e91-b2d0-513f23f7f54b",
   "metadata": {},
   "outputs": [
    {
     "data": {
      "text/plain": [
       "torch.Size([32, 32, 3])"
      ]
     },
     "execution_count": 10,
     "metadata": {},
     "output_type": "execute_result"
    }
   ],
   "source": [
    "# permute from C, W, H  ===>  W, H, C because imshow wants this shape\n",
    "image = torch.permute(train_set[0][0], (1, 2, 0))\n",
    "image.shape\n",
    "\n",
    "#you can use .view or .reshape"
   ]
  },
  {
   "cell_type": "code",
   "execution_count": 11,
   "id": "ab881fd6-bfb4-42f5-b0d7-a970e01e9430",
   "metadata": {},
   "outputs": [
    {
     "data": {
      "text/plain": [
       "<matplotlib.image.AxesImage at 0x1485a2130>"
      ]
     },
     "execution_count": 11,
     "metadata": {},
     "output_type": "execute_result"
    },
    {
     "data": {
      "image/png": "[encoded data removed]",
      "text/plain": [
       "<Figure size 432x288 with 1 Axes>"
      ]
     },
     "metadata": {
      "needs_background": "light"
     },
     "output_type": "display_data"
    }
   ],
   "source": [
    "#showtime\n",
    "plt.imshow(image)"
   ]
  },
  {
   "cell_type": "code",
   "execution_count": 14,
   "id": "56825974-9477-45d0-95eb-4e58d35d9f31",
   "metadata": {},
   "outputs": [
    {
     "data": {
      "text/plain": [
       "{0, 1, 2, 3, 4, 5, 6, 7, 8, 9}"
      ]
     },
     "execution_count": 14,
     "metadata": {},
     "output_type": "execute_result"
    }
   ],
   "source": [
    "#task2:  check how many labels we have\n",
    "set(train_data.targets)  #is provided by torch dataset"
   ]
  },
  {
   "cell_type": "code",
   "execution_count": 13,
   "id": "1e0473ac-8882-439a-82a9-bbb83a5bffbf",
   "metadata": {},
   "outputs": [],
   "source": [
    "#task3: for each label, print one sample image"
   ]
  }
 ],
 "metadata": {
  "kernelspec": {
   "display_name": "Python 3.8.6 ('teaching_env')",
   "language": "python",
   "name": "python3"
  },
  "language_info": {
   "codemirror_mode": {
    "name": "ipython",
    "version": 3
   },
   "file_extension": ".py",
   "mimetype": "text/x-python",
   "name": "python",
   "nbconvert_exporter": "python",
   "pygments_lexer": "ipython3",
   "version": "3.8.6"
  },
  "vscode": {
   "interpreter": {
    "hash": "becc4c8e5ad229b2591d820334d85e3db0111492344629bf57f272470dce75a5"
   }
  }
 },
 "nbformat": 4,
 "nbformat_minor": 5
}
