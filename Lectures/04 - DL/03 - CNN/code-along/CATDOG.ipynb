{
 "cells": [
  {
   "cell_type": "markdown",
   "metadata": {},
   "source": [
    "# Cat Dog\n",
    "\n",
    "- previously we use some dataset\n",
    "- so it's easy because they all come in the same shape....\n",
    "- today we gonna have a custom dataset from real folders....\n",
    "\n",
    "- later on, we gonna use `torchvision.ImageFolder`\n",
    "- so today, we gonna learn \n",
    "1. preprocessing\n",
    "2. loading images from folders\n",
    "3. using pre-trained models\n",
    "   1. pre-trained models are models that people trained the model on large number of images, so we can reuse the model's trained weights - e.g., resnet"
   ]
  },
  {
   "cell_type": "markdown",
   "metadata": {},
   "source": []
  }
 ],
 "metadata": {
  "kernelspec": {
   "display_name": "Python 3.8.6 ('teaching_env')",
   "language": "python",
   "name": "python3"
  },
  "language_info": {
   "name": "python",
   "version": "3.8.6"
  },
  "orig_nbformat": 4,
  "vscode": {
   "interpreter": {
    "hash": "becc4c8e5ad229b2591d820334d85e3db0111492344629bf57f272470dce75a5"
   }
  }
 },
 "nbformat": 4,
 "nbformat_minor": 2
}
