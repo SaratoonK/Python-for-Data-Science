{
 "cells": [
  {
   "cell_type": "markdown",
   "metadata": {},
   "source": [
    "# Sklearn Workshop 2: Mobile Price Prediction (Classificaiton)\n"
   ]
  },
  {
   "cell_type": "code",
   "execution_count": 33,
   "metadata": {},
   "outputs": [],
   "source": [
    "import pandas as pd\n",
    "import numpy as np\n",
    "import matplotlib.pyplot as plt\n",
    "import seaborn as sns"
   ]
  },
  {
   "cell_type": "code",
   "execution_count": 42,
   "metadata": {},
   "outputs": [],
   "source": [
    "#the difficult one.....\n",
    "# fc:Front Camera mega pixels\n",
    "# int_memory:Internal Memory in Gigabytes\n",
    "# m_dep:Mobile Depth in cm\n",
    "# pc:Primary Camera mega pixels\n",
    "# sc_h:Screen Height of mobile in cm\n",
    "# sc_w:Screen Width of mobile in cm\n",
    "# talk_time:longest time that a single battery charge will last when you are"
   ]
  },
  {
   "cell_type": "markdown",
   "metadata": {},
   "source": [
    "### Step 1: ETL"
   ]
  },
  {
   "cell_type": "code",
   "execution_count": 34,
   "metadata": {},
   "outputs": [],
   "source": [
    "#just consider this as a mix of train and test.....\n",
    "#don't use the testing set because it does not have target (so we cannot interpret.....)\n",
    "df = pd.read_csv(\"data/train_mobile.csv\")"
   ]
  },
  {
   "cell_type": "code",
   "execution_count": 44,
   "metadata": {},
   "outputs": [],
   "source": [
    "# df.describe()  #no missing values, seems like....\n",
    "# df.dtypes\n",
    "# df['price_range'].value_counts()  #check whether data class is balanced; wow...so lucky!"
   ]
  },
  {
   "cell_type": "code",
   "execution_count": 43,
   "metadata": {},
   "outputs": [
    {
     "data": {
      "text/plain": [
       "(Index(['blue', 'dual_sim', 'four_g', 'three_g', 'touch_screen', 'wifi'], dtype='object'),\n",
       " Index(['battery_power', 'clock_speed', 'fc', 'int_memory', 'm_dep',\n",
       "        'mobile_wt', 'n_cores', 'pc', 'px_height', 'px_width', 'ram', 'sc_h',\n",
       "        'sc_w', 'talk_time'],\n",
       "       dtype='object'))"
      ]
     },
     "execution_count": 43,
     "metadata": {},
     "output_type": "execute_result"
    }
   ],
   "source": [
    "#all values are int or float, but some are numeric, some are categorical, so let's set it.....\n",
    "cat_col = ['blue', 'dual_sim', 'four_g', 'three_g', 'touch_screen', 'wifi']\n",
    "\n",
    "cat_df = df[ cat_col ]\n",
    "num_df = df.drop(columns = cat_col).drop(columns = ['price_range'])  #we don't need price_range for plotting....\n",
    "\n",
    "cat_df.columns, num_df.columns"
   ]
  },
  {
   "cell_type": "markdown",
   "metadata": {},
   "source": [
    "### Step 2: EDA"
   ]
  },
  {
   "cell_type": "code",
   "execution_count": 49,
   "metadata": {},
   "outputs": [],
   "source": [
    "#plot the categorical columns\n",
    "# for col in cat_df.columns:\n",
    "#     sns.countplot(x = df['price_range'], hue=df[col])  #use count because \"counting\" the categories\n",
    "#     plt.show()\n",
    "\n",
    "#? We learn that:  nothing in the categorical column stands out!"
   ]
  },
  {
   "cell_type": "code",
   "execution_count": 53,
   "metadata": {},
   "outputs": [],
   "source": [
    "# for col in num_df.columns:\n",
    "#     sns.barplot(x = df['price_range'], y=df[col])  #use barplot/boxplot for numbers\n",
    "#     plt.show()\n",
    "    \n",
    "#? We learn that (very strong):  battery_power, px_height, px_width, ram\n",
    "#?               (some trend) :  int_memory, \n",
    "#? Hmm...maybe let the corr() confirms out for us....."
   ]
  },
  {
   "cell_type": "code",
   "execution_count": 60,
   "metadata": {},
   "outputs": [],
   "source": [
    "# plt.figure(figsize=(20, 10))\n",
    "# sns.heatmap(df.corr(), annot=True)\n",
    "\n",
    "#? Things with around >0.4-0.5 correlation with price_range:  ram\n",
    "#? Things with around >0.1     correlation with price_range:  battery_power, px_height, px_width\n",
    "\n",
    "#? So in conclusion, we will use ram, battery_power, px_height, px_width\n",
    "#? Note: you can use all features, but it can increase your model complexity.....unnecessarily"
   ]
  },
  {
   "cell_type": "markdown",
   "metadata": {},
   "source": [
    "### Step 3: Splitting"
   ]
  },
  {
   "cell_type": "code",
   "execution_count": 61,
   "metadata": {},
   "outputs": [
    {
     "data": {
      "text/plain": [
       "((2000, 4), (2000,))"
      ]
     },
     "execution_count": 61,
     "metadata": {},
     "output_type": "execute_result"
    }
   ],
   "source": [
    "X = df[ ['ram', 'battery_power', 'px_height', 'px_width'] ]\n",
    "y = df['price_range']\n",
    "\n",
    "assert X.ndim == 2\n",
    "assert y.ndim == 1\n",
    "\n",
    "X.shape, y.shape"
   ]
  },
  {
   "cell_type": "code",
   "execution_count": 62,
   "metadata": {},
   "outputs": [
    {
     "data": {
      "text/plain": [
       "((1400, 4), (600, 4), (1400,), (600,))"
      ]
     },
     "execution_count": 62,
     "metadata": {},
     "output_type": "execute_result"
    }
   ],
   "source": [
    "from sklearn.model_selection import train_test_split\n",
    "\n",
    "X_train, X_test, y_train, y_test = train_test_split(X, y, test_size = 0.3, random_state=999)\n",
    "X_train.shape, X_test.shape, y_train.shape, y_test.shape"
   ]
  },
  {
   "cell_type": "markdown",
   "metadata": {},
   "source": [
    "### Step 4: Preprocessing"
   ]
  },
  {
   "cell_type": "markdown",
   "metadata": {},
   "source": [
    "##### 4.1 Filling missing values"
   ]
  },
  {
   "cell_type": "code",
   "execution_count": 71,
   "metadata": {},
   "outputs": [],
   "source": [
    "#double check that no missing values....\n",
    "# X_train.isna().sum() \n",
    "# X_test.isna().sum() \n",
    "# y_train.isna().sum() \n",
    "# y_test.isna().sum()"
   ]
  },
  {
   "cell_type": "markdown",
   "metadata": {},
   "source": [
    "##### 4.2 Encoding"
   ]
  },
  {
   "cell_type": "code",
   "execution_count": null,
   "metadata": {},
   "outputs": [],
   "source": [
    "#all our values do not need to encode, because they are all numeric :-)"
   ]
  },
  {
   "cell_type": "markdown",
   "metadata": {},
   "source": [
    "##### 4.3 Standardization"
   ]
  },
  {
   "cell_type": "code",
   "execution_count": 80,
   "metadata": {},
   "outputs": [],
   "source": [
    "from sklearn.preprocessing import StandardScaler\n",
    "\n",
    "sc = StandardScaler()\n",
    "\n",
    "X_train = sc.fit_transform(X_train) #we scale all features, because all our features are continuous\n",
    "X_test  = sc.transform(X_test)\n",
    "\n",
    "#after standardize, the mean should be zero; the std should be 1\n",
    "for feature in range(X_train.shape[1]):\n",
    "    assert np.isclose(X_train[:, feature].mean(), 0)  #cannot == 0 because is near 0 not 0\n",
    "    assert np.isclose(X_train[:, feature].std(),  1)"
   ]
  },
  {
   "cell_type": "markdown",
   "metadata": {},
   "source": [
    "### Step 5: Modeling"
   ]
  },
  {
   "cell_type": "code",
   "execution_count": 81,
   "metadata": {},
   "outputs": [
    {
     "name": "stdout",
     "output_type": "stream",
     "text": [
      "lr - Mean: 0.9564285714285715; Std: 0.007284313590846851\n",
      "nb - Mean: 0.8057142857142858; Std: 0.009999999999999985\n",
      "sv - Mean: 0.9328571428571427; Std: 0.008571428571428579\n",
      "rf - Mean: 0.915; Std: 0.014880476182856933\n",
      "gb - Mean: 0.9092857142857144; Std: 0.008017837257372705\n"
     ]
    }
   ],
   "source": [
    "from sklearn.model_selection import cross_val_score\n",
    "from sklearn.linear_model import LogisticRegression\n",
    "from sklearn.naive_bayes import GaussianNB\n",
    "from sklearn.svm import SVC\n",
    "from sklearn.ensemble import RandomForestClassifier\n",
    "from sklearn.ensemble import GradientBoostingClassifier\n",
    "\n",
    "#models\n",
    "lr, nb, sv, rf, gb = LogisticRegression(), GaussianNB(), SVC(), RandomForestClassifier(), GradientBoostingClassifier()\n",
    "\n",
    "models = [lr, nb, sv, rf, gb]\n",
    "names  = [\"lr\", \"nb\", \"sv\", \"rf\", \"gb\"]\n",
    "\n",
    "for idx, model in enumerate(models):\n",
    "    score = cross_val_score(model, X_train, y_train, n_jobs=-1) #no need cv and scoring because their default is ok in our case\n",
    "    print(f\"{names[idx]} - Mean: {score.mean()}; Std: {score.std()}\")"
   ]
  },
  {
   "cell_type": "code",
   "execution_count": 85,
   "metadata": {},
   "outputs": [
    {
     "name": "stdout",
     "output_type": "stream",
     "text": [
      "{'solver': 'newton-cg'}\n",
      "0.9564285714285715\n"
     ]
    }
   ],
   "source": [
    "from sklearn.model_selection import GridSearchCV\n",
    "\n",
    "model = LogisticRegression(random_state=999)  #<----this is the model I choose, after cross validation\n",
    "\n",
    "param_grid = dict()\n",
    "param_grid['solver'] = ['newton-cg', 'lbfgs', 'liblinear']  #this is listed in the sklearn website\n",
    "#add more parameters here\n",
    "#param_grid[parameter] = list of parameters to search\n",
    "\n",
    "#refit means it will pick the best model, and fit again, so it means grid is already the best model after this line\n",
    "grid = GridSearchCV(model, param_grid, refit=True, return_train_score=True)\n",
    "#scoring = f1, recall, precision, accuracy\n",
    "\n",
    "#fit the grid, which will basically do cross validation across all combinatiosn, here we only have 3 comb\n",
    "grid.fit(X_train, y_train)  #remember to use only training set here....\n",
    "\n",
    "#print the best parameters and accuracy\n",
    "print(grid.best_params_)\n",
    "print(grid.best_score_)\n",
    "# print(grid.cv_results_)   #hide this for aesthetic\n",
    "\n",
    "#this score is cross-validation score, basically the accuracy/precision/etc on the validation set\n",
    "\n",
    "#?Note:  our train score is around 0.95, 0.95, 0.82;  the val score is 0.95, 0.96, 0.82\n",
    "#?       so no overfitting....because they are close\n",
    "#?Note:  if we have overfitting, we need to check many things, e.g., \n",
    "#?       - choose simpler model\n",
    "#?       - help the model choose better features\n",
    "#?       - collect more high quality data, and more data....\n",
    "#?       - or maybe your data has no pattern!! :-) the model is just learning pattern of noises......"
   ]
  },
  {
   "cell_type": "markdown",
   "metadata": {},
   "source": [
    "### Step 6: Testing"
   ]
  },
  {
   "cell_type": "code",
   "execution_count": 86,
   "metadata": {},
   "outputs": [],
   "source": [
    "pred_y = grid.predict(X_test)\n",
    "\n",
    "#if your website needs probability, you can use \n",
    "#proba or log_proba are same, log_proba just make the value more scaled....\n",
    "#?  Note:  some algorithm has no predict_proba() so please check\n",
    "    #pred_y_prob = grid.predict_proba(X_test)\n",
    "#or\n",
    "    #pred_y_logprob = grid.predict_log_proba(X_test)"
   ]
  },
  {
   "cell_type": "code",
   "execution_count": 87,
   "metadata": {},
   "outputs": [
    {
     "name": "stdout",
     "output_type": "stream",
     "text": [
      "              precision    recall  f1-score   support\n",
      "\n",
      "           0       0.91      0.98      0.95       131\n",
      "           1       0.96      0.91      0.94       176\n",
      "           2       0.96      0.94      0.95       150\n",
      "           3       0.97      0.97      0.97       143\n",
      "\n",
      "    accuracy                           0.95       600\n",
      "   macro avg       0.95      0.95      0.95       600\n",
      "weighted avg       0.95      0.95      0.95       600\n",
      "\n"
     ]
    }
   ],
   "source": [
    "from sklearn.metrics import classification_report, confusion_matrix, ConfusionMatrixDisplay\n",
    "\n",
    "print(classification_report(y_test, pred_y))\n",
    "#? Note:  we can use all four metrics to understand\n",
    "#? Accuracy:  0.95 - we can use it because our data is balanced\n",
    "#? Precision: 0.95 - look at this metric if you want to prioritize lowering FP\n",
    "#? Recall:    0.95 - look at this metirc if you want to prioritize lowering FN\n",
    "#? F1-score:  0.95 - look at this metric if you want to prioritize lowering both FP and FN\n",
    "\n",
    "#?macro-avg average all classes\n",
    "#?weighted-avg average all classes * their fraction of sample sizes\n",
    "\n",
    "#?if your data is balanced, both avg will be the same (anyway)"
   ]
  },
  {
   "cell_type": "code",
   "execution_count": 91,
   "metadata": {},
   "outputs": [
    {
     "data": {
      "text/plain": [
       "<sklearn.metrics._plot.confusion_matrix.ConfusionMatrixDisplay at 0x12b1a9190>"
      ]
     },
     "execution_count": 91,
     "metadata": {},
     "output_type": "execute_result"
    },
    {
     "data": {
      "image/png": "[encoded data removed]",
      "text/plain": [
       "<Figure size 432x288 with 2 Axes>"
      ]
     },
     "metadata": {
      "needs_background": "light"
     },
     "output_type": "display_data"
    }
   ],
   "source": [
    "cm  = confusion_matrix(y_test, pred_y)\n",
    "cmp = ConfusionMatrixDisplay(cm, display_labels=[0, 1, 2, 3])\n",
    "\n",
    "cmp.plot()\n",
    "\n",
    "#? Note:  0 is often confused as 1\n",
    "#?        1 is confused as 2\n",
    "#?        2 is confused as 3\n",
    "#?  This makes sense because close price range may be easily confused.......i guess (i don't know)"
   ]
  },
  {
   "cell_type": "code",
   "execution_count": 96,
   "metadata": {},
   "outputs": [
    {
     "data": {
      "text/plain": [
       "array([[-0.66024757, -0.16664437, -0.69963176, -0.90180308],\n",
       "       [-1.15147758,  0.96812008, -0.11120173,  0.18434547],\n",
       "       [-0.55654346,  0.06758557, -0.82764899, -1.31458566],\n",
       "       [-0.84127493,  1.15686848, -1.29255364, -1.24309817],\n",
       "       [-0.97317928, -0.77154886,  1.65184247,  0.48874379],\n",
       "       [-0.48103959, -1.17633458,  0.04152057, -0.59971081],\n",
       "       [-0.83308776,  0.1244375 , -0.09772623, -0.34143345],\n",
       "       [-0.68026065, -1.24455689, -0.60081145,  1.61409515],\n",
       "       [-0.73120302, -1.16041604,  1.10159301, -0.01858675],\n",
       "       [-0.46648462, -0.98758618,  0.01456958, -0.87182446],\n",
       "       [-0.86310737,  1.05453501, -1.20945474, -0.36449393],\n",
       "       [-0.72119648, -1.38100151,  0.9061983 ,  0.6386369 ],\n",
       "       [-0.82581028,  1.10229063, -0.52669622, -1.40913362]])"
      ]
     },
     "execution_count": 96,
     "metadata": {},
     "output_type": "execute_result"
    }
   ],
   "source": [
    "#let's check which sample like to get wrong, especially \"0 is often confused as 1\"\n",
    "conda = pred_y == 0\n",
    "condb = y_test == 1\n",
    "\n",
    "X_test[conda & condb]  #so i will leave at that....but if you are the domain expert, you can check here....\n",
    " "
   ]
  },
  {
   "cell_type": "markdown",
   "metadata": {},
   "source": [
    "### Step 7: Feature Importance"
   ]
  },
  {
   "cell_type": "markdown",
   "metadata": {},
   "source": [
    "### Step 8: Saving the models"
   ]
  }
 ],
 "metadata": {
  "kernelspec": {
   "display_name": "Python 3.8.6 ('teaching_env')",
   "language": "python",
   "name": "python3"
  },
  "language_info": {
   "codemirror_mode": {
    "name": "ipython",
    "version": 3
   },
   "file_extension": ".py",
   "mimetype": "text/x-python",
   "name": "python",
   "nbconvert_exporter": "python",
   "pygments_lexer": "ipython3",
   "version": "3.8.6"
  },
  "orig_nbformat": 4,
  "vscode": {
   "interpreter": {
    "hash": "becc4c8e5ad229b2591d820334d85e3db0111492344629bf57f272470dce75a5"
   }
  }
 },
 "nbformat": 4,
 "nbformat_minor": 2
}
