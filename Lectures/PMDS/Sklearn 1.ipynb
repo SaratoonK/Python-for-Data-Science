{
 "cells": [
  {
   "cell_type": "markdown",
   "metadata": {},
   "source": [
    "# Sklearn Workshop 1: Loan Prediction\n",
    "\n",
    "- Prepare you for project\n",
    "- We shall go through 3 case studies this week\n",
    "\n",
    "Announcement:\n",
    "- Next next week Friday we will meet, and we shall study how to deploy model to FastAPI\n",
    "- Next next week Saturday no class -> project time\n",
    "- Next next week Sunday: Presentation 9:00 - 12:00 - Each person 15 mins."
   ]
  },
  {
   "cell_type": "markdown",
   "metadata": {},
   "source": [
    "# Let's code!!"
   ]
  },
  {
   "cell_type": "code",
   "execution_count": 1,
   "metadata": {},
   "outputs": [],
   "source": [
    "import pandas as pd\n",
    "import numpy  as np\n",
    "import matplotlib.pyplot as plt"
   ]
  },
  {
   "cell_type": "markdown",
   "metadata": {},
   "source": [
    "## 1. Load the data"
   ]
  },
  {
   "cell_type": "code",
   "execution_count": 3,
   "metadata": {},
   "outputs": [],
   "source": [
    "#get the data from google classroom\n",
    "df_train = pd.read_csv(\"data/train_LoanPrediction.csv\")\n",
    "df_test  = pd.read_csv(\"data/test_LoanPrediction.csv\")"
   ]
  },
  {
   "cell_type": "code",
   "execution_count": 9,
   "metadata": {},
   "outputs": [
    {
     "data": {
      "text/plain": [
       "Y    422\n",
       "N    192\n",
       "Name: Loan_Status, dtype: int64"
      ]
     },
     "execution_count": 9,
     "metadata": {},
     "output_type": "execute_result"
    }
   ],
   "source": [
    "#1. get the shape (rows, columns)\n",
    "df_train.shape  #(614 rows, 13 columns)\n",
    "\n",
    "#2. try .head()\n",
    "df_train.head()\n",
    "\n",
    "#3. try .describe()\n",
    "df_train.describe()\n",
    "\n",
    "#4. check whether our data class is balanced, using value_counts(normalize=True)\n",
    "df_train['Loan_Status'].value_counts() #if you don't put normalize=True, will give you raw number\n",
    "\n",
    "#our class is imbalanced....\n",
    "#it means, we have to downsample Y, to equal N"
   ]
  },
  {
   "cell_type": "markdown",
   "metadata": {},
   "source": [
    "### 1.1 Make the dataset valid\n",
    "\n",
    "- this is not related to cleaning....this is about making the dataset valid....\n",
    "- please help me downsample Y\n",
    "- we only need to downsample the training set....because the training set is USED for training\n",
    "- imbalanced class only affects the model during training\n"
   ]
  },
  {
   "cell_type": "code",
   "execution_count": 10,
   "metadata": {},
   "outputs": [],
   "source": [
    "#1. set the cond = Y, and cond = N\n",
    "condY = df_train.Loan_Status == 'Y'\n",
    "condN = df_train.Loan_Status == 'N'\n",
    "\n",
    "#2.. df[condY].sample(n = 192)\n",
    "#    df[condN].sample\n",
    "\n",
    "#3. concat these two dfs\n"
   ]
  },
  {
   "cell_type": "code",
   "execution_count": null,
   "metadata": {},
   "outputs": [],
   "source": []
  }
 ],
 "metadata": {
  "kernelspec": {
   "display_name": "Python 3.8.6 ('teaching_env')",
   "language": "python",
   "name": "python3"
  },
  "language_info": {
   "codemirror_mode": {
    "name": "ipython",
    "version": 3
   },
   "file_extension": ".py",
   "mimetype": "text/x-python",
   "name": "python",
   "nbconvert_exporter": "python",
   "pygments_lexer": "ipython3",
   "version": "3.8.6"
  },
  "orig_nbformat": 4,
  "vscode": {
   "interpreter": {
    "hash": "becc4c8e5ad229b2591d820334d85e3db0111492344629bf57f272470dce75a5"
   }
  }
 },
 "nbformat": 4,
 "nbformat_minor": 2
}
